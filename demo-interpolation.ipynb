{
 "cells": [
  {
   "cell_type": "markdown",
   "metadata": {},
   "source": [
    "三ツ国拓真　線形補間"
   ]
  },
  {
   "cell_type": "code",
   "execution_count": 34,
   "metadata": {
    "collapsed": false
   },
   "outputs": [
    {
     "data": {
      "text/plain": [
       "my_lin_interp (generic function with 1 method)"
      ]
     },
     "execution_count": 34,
     "metadata": {},
     "output_type": "execute_result"
    }
   ],
   "source": [
    "include(\"Interpolation.jl\")"
   ]
  },
  {
   "cell_type": "code",
   "execution_count": 35,
   "metadata": {
    "collapsed": false
   },
   "outputs": [
    {
     "name": "stdout",
     "output_type": "stream",
     "text": [
      "function my_lin_interp(grid, vals)\n",
      "    function func(x::Real)\n",
      "        a=searchsortedfirst(grid, x)\n",
      "        b=searchsortedlast(grid, x)\n",
      "        if a==length(grid)+1||b==0\n",
      "            return 0\n",
      "        elseif a==1\n",
      "            return vals[1]\n",
      "        else\n",
      "            return (vals[a]-vals[a-1])/(grid[a]-grid[a-1])*(x-grid[a-1])+vals[a-1]\n",
      "        end\n",
      "    end\n",
      "    \n",
      "\n",
      "    function func{T<:Real}(x::AbstractVector{T})\n",
      "        n = length(x)\n",
      "        out = Array(Float64, n)\n",
      "        for i in 1:n\n",
      "            out[i] = func(x[i])\n",
      "        end\n",
      "        return out\n",
      "    end\n",
      "\n",
      "    return func\n",
      "end"
     ]
    }
   ],
   "source": [
    ";cat Interpolation.jl"
   ]
  },
  {
   "cell_type": "code",
   "execution_count": 36,
   "metadata": {
    "collapsed": false
   },
   "outputs": [
    {
     "data": {
      "text/plain": [
       "2-element Array{Int64,1}:\n",
       " 2\n",
       " 0"
      ]
     },
     "execution_count": 36,
     "metadata": {},
     "output_type": "execute_result"
    }
   ],
   "source": [
    "grid = [1, 2]\n",
    "vals = [2, 0]"
   ]
  },
  {
   "cell_type": "code",
   "execution_count": 37,
   "metadata": {
    "collapsed": false
   },
   "outputs": [
    {
     "data": {
      "text/plain": [
       "4-element Array{Float64,1}:\n",
       " 1.5\n",
       " 1.0\n",
       " 1.4\n",
       " 0.0"
      ]
     },
     "execution_count": 37,
     "metadata": {},
     "output_type": "execute_result"
    }
   ],
   "source": [
    "g([1.25, 1.5,1.3,3])"
   ]
  },
  {
   "cell_type": "code",
   "execution_count": 38,
   "metadata": {
    "collapsed": false
   },
   "outputs": [
    {
     "data": {
      "text/plain": [
       "4-element Array{Float64,1}:\n",
       " 1.5\n",
       " 1.0\n",
       " 1.4\n",
       " 0.0"
      ]
     },
     "execution_count": 38,
     "metadata": {},
     "output_type": "execute_result"
    }
   ],
   "source": [
    "g = my_lin_interp(grid, vals)\n",
    "grid = [0, 2, 4, 6, 8, 10]\n",
    "vals = [1, 4, 5, 8, 9, 11]\n",
    "g([1.25, 1.5,1.3,0])"
   ]
  },
  {
   "cell_type": "code",
   "execution_count": null,
   "metadata": {
    "collapsed": true
   },
   "outputs": [],
   "source": []
  }
 ],
 "metadata": {
  "kernelspec": {
   "display_name": "Julia 0.4.5",
   "language": "julia",
   "name": "julia-0.4"
  },
  "language_info": {
   "file_extension": ".jl",
   "mimetype": "application/julia",
   "name": "julia",
   "version": "0.4.5"
  }
 },
 "nbformat": 4,
 "nbformat_minor": 0
}

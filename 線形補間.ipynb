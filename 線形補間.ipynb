{
 "cells": [
  {
   "cell_type": "code",
   "execution_count": null,
   "metadata": {
    "collapsed": true
   },
   "outputs": [],
   "source": [
    "include(\"Interpolation.jl\")"
   ]
  },
  {
   "cell_type": "code",
   "execution_count": 53,
   "metadata": {
    "collapsed": false
   },
   "outputs": [
    {
     "data": {
      "text/plain": [
       "2-element Array{Int64,1}:\n",
       " 2\n",
       " 0"
      ]
     },
     "execution_count": 53,
     "metadata": {},
     "output_type": "execute_result"
    }
   ],
   "source": [
    "grid = [1, 2]\n",
    "vals = [2, 0]"
   ]
  },
  {
   "cell_type": "code",
   "execution_count": 54,
   "metadata": {
    "collapsed": false
   },
   "outputs": [
    {
     "ename": "LoadError",
     "evalue": "LoadError: cannot define function f; it already has a value\nwhile loading In[54], in expression starting on line 1",
     "output_type": "error",
     "traceback": [
      "LoadError: cannot define function f; it already has a value\nwhile loading In[54], in expression starting on line 1",
      ""
     ]
    }
   ],
   "source": [
    "function f(x)\n",
    "    return (vals[2]-vals[1])/(grid[2]-grid[1])*(x-grid[1])+vals[1]\n",
    "end\n",
    "\n",
    "return f"
   ]
  },
  {
   "cell_type": "code",
   "execution_count": 51,
   "metadata": {
    "collapsed": false
   },
   "outputs": [
    {
     "data": {
      "text/plain": [
       "func (generic function with 2 methods)"
      ]
     },
     "execution_count": 51,
     "metadata": {},
     "output_type": "execute_result"
    }
   ],
   "source": [
    "grid = [1, 2]\n",
    "vals = [2, 0]\n",
    "f = my_lin_interp(grid, vals)"
   ]
  },
  {
   "cell_type": "code",
   "execution_count": 30,
   "metadata": {
    "collapsed": false
   },
   "outputs": [
    {
     "data": {
      "text/plain": [
       "1.0"
      ]
     },
     "execution_count": 30,
     "metadata": {},
     "output_type": "execute_result"
    }
   ],
   "source": [
    "f(1.5)"
   ]
  },
  {
   "cell_type": "code",
   "execution_count": 26,
   "metadata": {
    "collapsed": false
   },
   "outputs": [
    {
     "data": {
      "text/plain": [
       "2"
      ]
     },
     "execution_count": 26,
     "metadata": {},
     "output_type": "execute_result"
    }
   ],
   "source": [
    "searchsortedfirst(grid, 2)"
   ]
  },
  {
   "cell_type": "code",
   "execution_count": 25,
   "metadata": {
    "collapsed": false
   },
   "outputs": [
    {
     "data": {
      "text/plain": [
       "3"
      ]
     },
     "execution_count": 25,
     "metadata": {},
     "output_type": "execute_result"
    }
   ],
   "source": [
    "searchsortedfirst(grid, 6)"
   ]
  },
  {
   "cell_type": "code",
   "execution_count": 37,
   "metadata": {
    "collapsed": false
   },
   "outputs": [
    {
     "data": {
      "text/plain": [
       "my_lin_interp (generic function with 1 method)"
      ]
     },
     "execution_count": 37,
     "metadata": {},
     "output_type": "execute_result"
    }
   ],
   "source": [
    "#Vector 入力への対応\n",
    "grid = [1, 2]\n",
    "vals = [2, 0]\n",
    "f = my_lin_interp(grid, vals)\n",
    "\n",
    "function my_lin_interp(grid, vals)\n",
    "    function func(x::Real)\n",
    "        return (vals[2]-vals[1])/(grid[2]-grid[1])*(x-grid[1])+vals[1]\n",
    "    end\n",
    "   #引数 x が Vector のときは func(x::Vector) に書いてある命令が，それ以外のときは func(x) に書いてある命令が実行される \n",
    "    function func{T<:Real}(x::Vector{T})\n",
    "        return (vals[2]-vals[1])/(grid[2]-grid[1])*(x-grid[1])+vals[1] \n",
    "    end\n",
    "\n",
    "    return func\n",
    "end"
   ]
  },
  {
   "cell_type": "code",
   "execution_count": 38,
   "metadata": {
    "collapsed": false
   },
   "outputs": [
    {
     "data": {
      "text/plain": [
       "2-element Array{Float64,1}:\n",
       " 1.5\n",
       " 1.0"
      ]
     },
     "execution_count": 38,
     "metadata": {},
     "output_type": "execute_result"
    }
   ],
   "source": [
    "f([1.25, 1.5])"
   ]
  },
  {
   "cell_type": "code",
   "execution_count": 39,
   "metadata": {
    "collapsed": true
   },
   "outputs": [],
   "source": [
    "#Type として実装\n",
    "immutable MyLinInterp\n",
    "    grid\n",
    "    vals\n",
    "end\n",
    "# grid,valsからなるMyLinInterpは変更不可能なデータタイプ"
   ]
  },
  {
   "cell_type": "code",
   "execution_count": 40,
   "metadata": {
    "collapsed": true
   },
   "outputs": [],
   "source": [
    "#call(x, args...)\n",
    "#If x is not a Function, then x(args...) is equivalent to call(x, args...). This means that function-like behavior can be added to any type by defining new call methods."
   ]
  },
  {
   "cell_type": "code",
   "execution_count": 46,
   "metadata": {
    "collapsed": false
   },
   "outputs": [
    {
     "data": {
      "text/plain": [
       "call (generic function with 1086 methods)"
      ]
     },
     "execution_count": 46,
     "metadata": {},
     "output_type": "execute_result"
    }
   ],
   "source": [
    "function Base.call(f::MyLinInterp, x)\n",
    "    function func(x::Real)\n",
    "        return (vals[2]-vals[1])/(grid[2]-grid[1])*(x-grid[1])+vals[1]\n",
    "    end\n",
    "\n",
    "    function func{T<:Real}(x::Vector{T})\n",
    "        return (vals[2]-vals[1])/(grid[2]-grid[1])*(x-grid[1])+vals[1]\n",
    "    end\n",
    "\n",
    "    return func\n",
    "end"
   ]
  },
  {
   "cell_type": "code",
   "execution_count": 49,
   "metadata": {
    "collapsed": false
   },
   "outputs": [
    {
     "data": {
      "text/plain": [
       "MyLinInterp([1.0,2.5],[2,0])"
      ]
     },
     "execution_count": 49,
     "metadata": {},
     "output_type": "execute_result"
    }
   ],
   "source": [
    "grid = [1, 2.5]\n",
    "vals = [2, 0]\n",
    "f = MyLinInterp(grid, vals)"
   ]
  },
  {
   "cell_type": "code",
   "execution_count": null,
   "metadata": {
    "collapsed": true
   },
   "outputs": [],
   "source": []
  }
 ],
 "metadata": {
  "kernelspec": {
   "display_name": "Julia 0.4.5",
   "language": "julia",
   "name": "julia-0.4"
  },
  "language_info": {
   "file_extension": ".jl",
   "mimetype": "application/julia",
   "name": "julia",
   "version": "0.4.5"
  }
 },
 "nbformat": 4,
 "nbformat_minor": 0
}
